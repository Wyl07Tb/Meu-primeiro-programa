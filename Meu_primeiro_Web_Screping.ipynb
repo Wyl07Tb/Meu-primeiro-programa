{
  "nbformat": 4,
  "nbformat_minor": 0,
  "metadata": {
    "colab": {
      "provenance": [],
      "mount_file_id": "1Apgd5sa1NiA3eDyPPOO2PdejPz1SAvdO",
      "authorship_tag": "ABX9TyPbEM5jGvcVhKlcQkM0IL/j",
      "include_colab_link": true
    },
    "kernelspec": {
      "name": "python3",
      "display_name": "Python 3"
    },
    "language_info": {
      "name": "python"
    }
  },
  "cells": [
    {
      "cell_type": "markdown",
      "metadata": {
        "id": "view-in-github",
        "colab_type": "text"
      },
      "source": [
        "<a href=\"https://colab.research.google.com/github/Wyl07Tb/Meu-primeiro-programa/blob/master/Meu_primeiro_Web_Screping.ipynb\" target=\"_parent\"><img src=\"https://colab.research.google.com/assets/colab-badge.svg\" alt=\"Open In Colab\"/></a>"
      ]
    },
    {
      "cell_type": "code",
      "execution_count": 82,
      "metadata": {
        "id": "9JyoC6BDRLiM"
      },
      "outputs": [],
      "source": [
        "import requests\n",
        "from bs4 import BeautifulSoup"
      ]
    },
    {
      "cell_type": "code",
      "source": [
        "url_base = \"https://lista.mercadolivre.com.br/\""
      ],
      "metadata": {
        "id": "4fNPOx1EWGMA"
      },
      "execution_count": 83,
      "outputs": []
    },
    {
      "cell_type": "code",
      "source": [
        "product_name = input(\"Escolha o produto: \")"
      ],
      "metadata": {
        "id": "3CIBYdHOXjRe"
      },
      "execution_count": null,
      "outputs": []
    },
    {
      "cell_type": "code",
      "source": [
        "nome_trat = product_name.replace(\" \", \"-\")"
      ],
      "metadata": {
        "id": "OalTnGOOX-w-"
      },
      "execution_count": 85,
      "outputs": []
    },
    {
      "cell_type": "code",
      "source": [
        "url_produto = url_base + nome_trat"
      ],
      "metadata": {
        "id": "GINQb9JzYuLp"
      },
      "execution_count": 86,
      "outputs": []
    },
    {
      "cell_type": "code",
      "source": [
        "url_produto"
      ],
      "metadata": {
        "id": "6eodVqG2aETm"
      },
      "execution_count": null,
      "outputs": []
    },
    {
      "cell_type": "code",
      "source": [
        "response = requests.get(url_produto)\n",
        "print(response)"
      ],
      "metadata": {
        "id": "_kisIVyHauFZ"
      },
      "execution_count": null,
      "outputs": []
    },
    {
      "cell_type": "code",
      "source": [
        "site = BeautifulSoup(response.text, \"html.parser\")"
      ],
      "metadata": {
        "id": "4Y2rZ1BebKkE"
      },
      "execution_count": 89,
      "outputs": []
    },
    {
      "cell_type": "code",
      "source": [
        "dados = site.find_all(\"div\", attrs= {\"class\" : \"ui-search-result__content-wrapper shops__result-content-wrapper\"})"
      ],
      "metadata": {
        "id": "QGISe-3KcOpq"
      },
      "execution_count": 90,
      "outputs": []
    },
    {
      "cell_type": "code",
      "source": [
        "produtos = []\n",
        "precos = []\n",
        "for x in dados:\n",
        "  #nome do produto\n",
        "  nome_mineracao = x.find_all(\"h2\")[0].text\n",
        "  produtos.append(nome_mineracao)\n",
        "\n",
        "  #preço do produto\n",
        "  preco_mineracao = x.find_all(\"span\", class_=\"price-tag ui-search-price__part shops__price-part\")[0].text\n",
        "  preco_trat = preco_mineracao.split(' ')[0]\n",
        "  precos.append(preco_trat)"
      ],
      "metadata": {
        "id": "q0hAS-ncfllG"
      },
      "execution_count": 91,
      "outputs": []
    },
    {
      "cell_type": "code",
      "source": [
        "import pandas as pd"
      ],
      "metadata": {
        "id": "fTYJ643ciHIA"
      },
      "execution_count": 92,
      "outputs": []
    },
    {
      "cell_type": "code",
      "source": [
        "dados_coletados = {\n",
        "    \"Nome\" : produtos,\n",
        "    \"Preco\" : precos\n",
        "}"
      ],
      "metadata": {
        "id": "MS08MDBNnB-0"
      },
      "execution_count": 93,
      "outputs": []
    },
    {
      "cell_type": "code",
      "source": [
        "tabela = pd.DataFrame(dados_coletados)"
      ],
      "metadata": {
        "id": "luw8VKxMnA_O"
      },
      "execution_count": 94,
      "outputs": []
    },
    {
      "cell_type": "code",
      "source": [
        "arquivo = f\"{nome_trat}.xlsx\""
      ],
      "metadata": {
        "id": "3RGwVQVpvenB"
      },
      "execution_count": 95,
      "outputs": []
    },
    {
      "cell_type": "code",
      "source": [
        "tabela.to_excel(arquivo)"
      ],
      "metadata": {
        "id": "jw3lx-40n-CN"
      },
      "execution_count": 96,
      "outputs": []
    },
    {
      "cell_type": "code",
      "source": [
        "tabela"
      ],
      "metadata": {
        "id": "w_9GLJ0KpSh3"
      },
      "execution_count": null,
      "outputs": []
    }
  ]
}